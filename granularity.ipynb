{
 "cells": [
  {
   "cell_type": "markdown",
   "metadata": {},
   "source": [
    "#### How to choose the granularity of the context such that the agent can choose spans"
   ]
  },
  {
   "cell_type": "code",
   "execution_count": 1,
   "metadata": {},
   "outputs": [
    {
     "name": "stderr",
     "output_type": "stream",
     "text": [
      "/opt/homebrew/anaconda3/envs/ml/lib/python3.10/site-packages/tqdm/auto.py:22: TqdmWarning: IProgress not found. Please update jupyter and ipywidgets. See https://ipywidgets.readthedocs.io/en/stable/user_install.html\n",
      "  from .autonotebook import tqdm as notebook_tqdm\n",
      "[nltk_data] Downloading package benepar_en3 to\n",
      "[nltk_data]     /Users/teoneacsu/nltk_data...\n",
      "[nltk_data]   Package benepar_en3 is already up-to-date!\n",
      "Using custom data configuration readerbench--squad_qgen-afbe6c1a706ab455\n",
      "Found cached dataset parquet (/Users/teoneacsu/.cache/huggingface/datasets/readerbench___parquet/readerbench--squad_qgen-afbe6c1a706ab455/0.0.0/2a3b91fbd88a2c90d1dbbb32b460cf621d31bd5b05b934492fdef7d8d6f236ec)\n"
     ]
    }
   ],
   "source": [
    "import nltk\n",
    "import spacy\n",
    "import benepar\n",
    "\n",
    "from datasets import load_dataset\n",
    "\n",
    "benepar.download('benepar_en3')\n",
    "squad = load_dataset(\"readerbench/squad_qgen\", split=\"train\")"
   ]
  },
  {
   "cell_type": "code",
   "execution_count": 2,
   "metadata": {},
   "outputs": [
    {
     "data": {
      "text/plain": [
       "<benepar.integrations.spacy_plugin.BeneparComponent at 0x297666f20>"
      ]
     },
     "execution_count": 2,
     "metadata": {},
     "output_type": "execute_result"
    }
   ],
   "source": [
    "nlp = spacy.load(\"en_core_web_trf\")\n",
    "nlp.add_pipe('benepar', config={'model': 'benepar_en3'})"
   ]
  },
  {
   "cell_type": "code",
   "execution_count": 4,
   "metadata": {},
   "outputs": [
    {
     "name": "stderr",
     "output_type": "stream",
     "text": [
      "  0%|          | 0/82900 [00:00<?, ?it/s]/opt/homebrew/anaconda3/envs/ml/lib/python3.10/site-packages/torch/autocast_mode.py:162: UserWarning: User provided device_type of 'cuda', but CUDA is not available. Disabling\n",
      "  warnings.warn('User provided device_type of \\'cuda\\', but CUDA is not available. Disabling')\n",
      "/opt/homebrew/anaconda3/envs/ml/lib/python3.10/site-packages/torch/distributions/distribution.py:44: UserWarning: <class 'torch_struct.distributions.TreeCRF'> does not define `arg_constraints`. Please set `arg_constraints = {}` or initialize the distribution with `validate_args=False` to turn off validation.\n",
      "  warnings.warn(f'{self.__class__} does not define `arg_constraints`. ' +\n",
      " 47%|████▋     | 38897/82900 [5:14:28<2:24:18,  5.08it/s]    "
     ]
    }
   ],
   "source": [
    "# generate a dataframe with sentence and all possible answers\n",
    "import pandas as pd\n",
    "squad_df = []\n",
    "\n",
    "from tqdm import tqdm\n",
    "# iterate through the dataset\n",
    "for i, sample in tqdm(enumerate(squad), total=len(squad)):\n",
    "\n",
    "    # eliminate the contexts that have sentences longer than 512 tokens\n",
    "    try:\n",
    "        doc = nlp(sample['context'])\n",
    "    except:\n",
    "        continue\n",
    "\n",
    "    for sent in doc.sents:\n",
    "\n",
    "        sent_text = sent.text\n",
    "\n",
    "        constit_list = list(sent._.constituents)\n",
    "\n",
    "        tag_constit_list = [(constit._.labels, constit.text.strip()) for constit in constit_list]\n",
    "\n",
    "        sample['possible_answers'] = tag_constit_list\n",
    "\n",
    "        squad_df.append((sent_text, tag_constit_list))"
   ]
  },
  {
   "cell_type": "code",
   "execution_count": null,
   "metadata": {},
   "outputs": [
    {
     "data": {
      "text/html": [
       "<div>\n",
       "<style scoped>\n",
       "    .dataframe tbody tr th:only-of-type {\n",
       "        vertical-align: middle;\n",
       "    }\n",
       "\n",
       "    .dataframe tbody tr th {\n",
       "        vertical-align: top;\n",
       "    }\n",
       "\n",
       "    .dataframe thead th {\n",
       "        text-align: right;\n",
       "    }\n",
       "</style>\n",
       "<table border=\"1\" class=\"dataframe\">\n",
       "  <thead>\n",
       "    <tr style=\"text-align: right;\">\n",
       "      <th></th>\n",
       "      <th>sentence</th>\n",
       "      <th>spans</th>\n",
       "    </tr>\n",
       "  </thead>\n",
       "  <tbody>\n",
       "    <tr>\n",
       "      <th>0</th>\n",
       "      <td>The Normans (Norman: Nourmands; French: Norman...</td>\n",
       "      <td>[((S,), The Normans (Norman: Nourmands; French...</td>\n",
       "    </tr>\n",
       "    <tr>\n",
       "      <th>1</th>\n",
       "      <td>They were descended from Norse (\"Norman\" comes...</td>\n",
       "      <td>[((S,), They were descended from Norse (\"Norma...</td>\n",
       "    </tr>\n",
       "    <tr>\n",
       "      <th>2</th>\n",
       "      <td>Through generations of assimilation and mixing...</td>\n",
       "      <td>[((S,), Through generations of assimilation an...</td>\n",
       "    </tr>\n",
       "    <tr>\n",
       "      <th>3</th>\n",
       "      <td>The distinct cultural and ethnic identity of t...</td>\n",
       "      <td>[((S,), The distinct cultural and ethnic ident...</td>\n",
       "    </tr>\n",
       "    <tr>\n",
       "      <th>4</th>\n",
       "      <td>The Normans (Norman: Nourmands; French: Norman...</td>\n",
       "      <td>[((S,), The Normans (Norman: Nourmands; French...</td>\n",
       "    </tr>\n",
       "  </tbody>\n",
       "</table>\n",
       "</div>"
      ],
      "text/plain": [
       "                                            sentence  \\\n",
       "0  The Normans (Norman: Nourmands; French: Norman...   \n",
       "1  They were descended from Norse (\"Norman\" comes...   \n",
       "2  Through generations of assimilation and mixing...   \n",
       "3  The distinct cultural and ethnic identity of t...   \n",
       "4  The Normans (Norman: Nourmands; French: Norman...   \n",
       "\n",
       "                                               spans  \n",
       "0  [((S,), The Normans (Norman: Nourmands; French...  \n",
       "1  [((S,), They were descended from Norse (\"Norma...  \n",
       "2  [((S,), Through generations of assimilation an...  \n",
       "3  [((S,), The distinct cultural and ethnic ident...  \n",
       "4  [((S,), The Normans (Norman: Nourmands; French...  "
      ]
     },
     "execution_count": 5,
     "metadata": {},
     "output_type": "execute_result"
    }
   ],
   "source": [
    "squad_df_new = pd.DataFrame(squad_df, columns=['sentence', 'spans'])\n",
    "squad_df_new.head()\n"
   ]
  },
  {
   "cell_type": "code",
   "execution_count": null,
   "metadata": {},
   "outputs": [],
   "source": [
    "squad_df_new.to_json('squad_df_train.json')"
   ]
  },
  {
   "cell_type": "code",
   "execution_count": null,
   "metadata": {},
   "outputs": [],
   "source": []
  }
 ],
 "metadata": {
  "kernelspec": {
   "display_name": "Python 3.10.6 ('ml')",
   "language": "python",
   "name": "python3"
  },
  "language_info": {
   "codemirror_mode": {
    "name": "ipython",
    "version": 3
   },
   "file_extension": ".py",
   "mimetype": "text/x-python",
   "name": "python",
   "nbconvert_exporter": "python",
   "pygments_lexer": "ipython3",
   "version": "3.10.6"
  },
  "orig_nbformat": 4,
  "vscode": {
   "interpreter": {
    "hash": "5188bc372fa413aa2565ae5d28228f50ad7b2c4ebb4a82c5900fd598adbb6408"
   }
  }
 },
 "nbformat": 4,
 "nbformat_minor": 2
}
