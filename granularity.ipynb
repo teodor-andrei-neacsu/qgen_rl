{
 "cells": [
  {
   "cell_type": "markdown",
   "metadata": {},
   "source": [
    "#### How to choose the granularity of the context such that the agent can choose spans"
   ]
  },
  {
   "cell_type": "code",
   "execution_count": 1,
   "metadata": {},
   "outputs": [
    {
     "name": "stderr",
     "output_type": "stream",
     "text": [
      "Reusing dataset squad_v2 (/Users/teo/.cache/huggingface/datasets/squad_v2/squad_v2/2.0.0/09187c73c1b837c95d9a249cd97c2c3f1cebada06efe667b4427714b27639b1d)\n"
     ]
    },
    {
     "data": {
      "application/json": {
       "ascii": false,
       "bar_format": null,
       "colour": null,
       "elapsed": 0.015191078186035156,
       "initial": 0,
       "n": 0,
       "ncols": null,
       "nrows": null,
       "postfix": null,
       "prefix": "",
       "rate": null,
       "total": 2,
       "unit": "it",
       "unit_divisor": 1000,
       "unit_scale": false
      },
      "application/vnd.jupyter.widget-view+json": {
       "model_id": "d6f7f11a9a8e4d96965dbc0343498f78",
       "version_major": 2,
       "version_minor": 0
      },
      "text/plain": [
       "  0%|          | 0/2 [00:00<?, ?it/s]"
      ]
     },
     "metadata": {},
     "output_type": "display_data"
    },
    {
     "data": {
      "text/plain": [
       "<benepar.integrations.spacy_plugin.BeneparComponent at 0x156b44790>"
      ]
     },
     "execution_count": 1,
     "metadata": {},
     "output_type": "execute_result"
    }
   ],
   "source": [
    "import nltk\n",
    "import spacy\n",
    "import benepar\n",
    "\n",
    "from datasets import load_dataset\n",
    "\n",
    "squad = load_dataset(\"squad_v2\")\n",
    "\n",
    "nlp = spacy.load(\"en_core_web_trf\")\n",
    "nlp.add_pipe('benepar', config={'model': 'benepar_en3'})"
   ]
  },
  {
   "cell_type": "code",
   "execution_count": 2,
   "metadata": {},
   "outputs": [],
   "source": [
    "squad_sample = squad[\"train\"][0][\"context\"]"
   ]
  },
  {
   "cell_type": "code",
   "execution_count": 3,
   "metadata": {},
   "outputs": [
    {
     "name": "stderr",
     "output_type": "stream",
     "text": [
      "/opt/homebrew/anaconda3/envs/m1_ml/lib/python3.10/site-packages/torch/autocast_mode.py:162: UserWarning: User provided device_type of 'cuda', but CUDA is not available. Disabling\n",
      "  warnings.warn('User provided device_type of \\'cuda\\', but CUDA is not available. Disabling')\n",
      "/opt/homebrew/anaconda3/envs/m1_ml/lib/python3.10/site-packages/torch/distributions/distribution.py:44: UserWarning: <class 'torch_struct.distributions.TreeCRF'> does not define `arg_constraints`. Please set `arg_constraints = {}` or initialize the distribution with `validate_args=False` to turn off validation.\n",
      "  warnings.warn(f'{self.__class__} does not define `arg_constraints`. ' +\n"
     ]
    }
   ],
   "source": [
    "doc = nlp(squad_sample)\n",
    "\n",
    "# Test the first sentence\n",
    "curr_sent = None\n",
    "for sent in doc.sents:\n",
    "    curr_sent = sent\n",
    "    break\n",
    "\n",
    "# # # create nltk tree from constituency parse\n",
    "# tree = nltk.Tree.fromstring(curr_sent._.parse_string)\n",
    "# tree\n",
    "\n",
    "# # level in the constituency tree\n",
    "# level = 0\n",
    "# print(\"Granularity level: {}\".format(level))\n",
    "# print(\"Sentence: {}\".format(curr_sent))\n",
    "\n",
    "# # level order traversal of the constituency tree\n",
    "# for const in curr_sent._.constituents:\n",
    "#     print(const)\n"
   ]
  },
  {
   "cell_type": "code",
   "execution_count": 4,
   "metadata": {},
   "outputs": [
    {
     "name": "stdout",
     "output_type": "stream",
     "text": [
      "Level 0\n",
      "Sentence: Beyoncé Giselle Knowles-Carter (/biːˈjɒnseɪ/ bee-YON-say) (born September 4, 1981) is an American singer, songwriter, record producer and actress.\n",
      "Level 1\n",
      "Sentence: Beyoncé Giselle Knowles-Carter (/biːˈjɒnseɪ/ bee-YON-say) (born September 4, 1981)#is an American singer, songwriter, record producer and actress#.#\n",
      "Level 2\n",
      "Sentence: Beyoncé Giselle Knowles-Carter (/biːˈjɒnseɪ/ bee-YON-say)#(#born September 4, 1981#)#is#an American singer, songwriter, record producer and actress#.#\n",
      "Level 3\n",
      "Sentence: Beyoncé Giselle Knowles-Carter#(#/biːˈjɒnseɪ/ bee-YON-say#)#(#born#September 4, 1981#)#is#an#American#singer, songwriter, record producer and actress#.#\n",
      "Level 4\n",
      "Sentence: Beyoncé#Giselle#Knowles#-#Carter#(#/biːˈjɒnseɪ/#bee-YON-say#)#(#born#September#4#,#1981#)#is#an#American#singer#,#songwriter#,#record#producer#and#actress#.#\n"
     ]
    }
   ],
   "source": [
    "print(\"Level 0\")\n",
    "print(\"Sentence: {}\".format(curr_sent))\n",
    "\n",
    "print(\"Level 1\")\n",
    "result = ''\n",
    "for chld in curr_sent._.children:\n",
    "    result += chld.text + '#'\n",
    "print(\"Sentence: {}\".format(result))\n",
    "\n",
    "print(\"Level 2\")\n",
    "result = ''\n",
    "for chld in curr_sent._.children:\n",
    "    chld2_list = []\n",
    "    for chld2 in chld._.children:\n",
    "        chld2_list.append(chld2.text)\n",
    "\n",
    "    if len(chld2_list) > 0:\n",
    "        result += '#'.join(chld2_list) + '#'\n",
    "    else:\n",
    "        result += chld.text + '#'\n",
    "print(\"Sentence: {}\".format(result))\n",
    "\n",
    "print(\"Level 3\")\n",
    "result = ''\n",
    "for chld in curr_sent._.children:\n",
    "    chld2_list = []\n",
    "    for chld2 in chld._.children:\n",
    "        chld3_list = []\n",
    "        for chld3 in chld2._.children:\n",
    "            chld3_list.append(chld3.text)\n",
    "\n",
    "        if len(chld3_list) > 0:\n",
    "            chld2_list.append('#'.join(chld3_list))\n",
    "        else:\n",
    "            chld2_list.append(chld2.text)\n",
    "\n",
    "    if len(chld2_list) > 0:\n",
    "        result += '#'.join(chld2_list) + '#'\n",
    "    else:\n",
    "        result += chld.text + '#'\n",
    "print(\"Sentence: {}\".format(result))\n",
    "\n",
    "print(\"Level 4\")\n",
    "result = ''\n",
    "for chld in curr_sent._.children:\n",
    "    chld2_list = []\n",
    "    for chld2 in chld._.children:\n",
    "        chld3_list = []\n",
    "        for chld3 in chld2._.children:\n",
    "            chld4_list = []\n",
    "            for chld4 in chld3._.children:\n",
    "                chld4_list.append(chld4.text)\n",
    "\n",
    "            if len(chld4_list) > 0:\n",
    "                chld3_list.append('#'.join(chld4_list))\n",
    "            else:\n",
    "                chld3_list.append(chld3.text)\n",
    "\n",
    "        if len(chld3_list) > 0:\n",
    "            chld2_list.append('#'.join(chld3_list))\n",
    "        else:\n",
    "            chld2_list.append(chld2.text)\n",
    "\n",
    "    if len(chld2_list) > 0:\n",
    "        result += '#'.join(chld2_list) + '#'\n",
    "    else:\n",
    "        result += chld.text + '#'\n",
    "\n",
    "print(\"Sentence: {}\".format(result))\n"
   ]
  },
  {
   "cell_type": "code",
   "execution_count": 14,
   "metadata": {},
   "outputs": [
    {
     "ename": "KeyboardInterrupt",
     "evalue": "",
     "output_type": "error",
     "traceback": [
      "\u001b[0;31m---------------------------------------------------------------------------\u001b[0m",
      "\u001b[0;31mKeyboardInterrupt\u001b[0m                         Traceback (most recent call last)",
      "\u001b[1;32m/Users/teo/Desktop/optimize/qgen_rl/granularity.ipynb Cell 6\u001b[0m in \u001b[0;36m<cell line: 25>\u001b[0;34m()\u001b[0m\n\u001b[1;32m     <a href='vscode-notebook-cell:/Users/teo/Desktop/optimize/qgen_rl/granularity.ipynb#X15sZmlsZQ%3D%3D?line=18'>19</a>\u001b[0m         queue\u001b[39m.\u001b[39mextend(chld_list)\n\u001b[1;32m     <a href='vscode-notebook-cell:/Users/teo/Desktop/optimize/qgen_rl/granularity.ipynb#X15sZmlsZQ%3D%3D?line=22'>23</a>\u001b[0m     \u001b[39mreturn\u001b[39;00m result\n\u001b[0;32m---> <a href='vscode-notebook-cell:/Users/teo/Desktop/optimize/qgen_rl/granularity.ipynb#X15sZmlsZQ%3D%3D?line=24'>25</a>\u001b[0m get_level_order_traversal(curr_sent)\n",
      "\u001b[1;32m/Users/teo/Desktop/optimize/qgen_rl/granularity.ipynb Cell 6\u001b[0m in \u001b[0;36mget_level_order_traversal\u001b[0;34m(tree)\u001b[0m\n\u001b[1;32m     <a href='vscode-notebook-cell:/Users/teo/Desktop/optimize/qgen_rl/granularity.ipynb#X15sZmlsZQ%3D%3D?line=9'>10</a>\u001b[0m result\u001b[39m.\u001b[39mappend(\u001b[39m'\u001b[39m\u001b[39m#\u001b[39m\u001b[39m'\u001b[39m)\n\u001b[1;32m     <a href='vscode-notebook-cell:/Users/teo/Desktop/optimize/qgen_rl/granularity.ipynb#X15sZmlsZQ%3D%3D?line=10'>11</a>\u001b[0m chld_list \u001b[39m=\u001b[39m []\n\u001b[0;32m---> <a href='vscode-notebook-cell:/Users/teo/Desktop/optimize/qgen_rl/granularity.ipynb#X15sZmlsZQ%3D%3D?line=12'>13</a>\u001b[0m \u001b[39mfor\u001b[39;00m chld \u001b[39min\u001b[39;00m curr_node\u001b[39m.\u001b[39;49m_\u001b[39m.\u001b[39mchildren:\n\u001b[1;32m     <a href='vscode-notebook-cell:/Users/teo/Desktop/optimize/qgen_rl/granularity.ipynb#X15sZmlsZQ%3D%3D?line=13'>14</a>\u001b[0m     chld_list\u001b[39m.\u001b[39mappend(chld)\n\u001b[1;32m     <a href='vscode-notebook-cell:/Users/teo/Desktop/optimize/qgen_rl/granularity.ipynb#X15sZmlsZQ%3D%3D?line=15'>16</a>\u001b[0m \u001b[39mif\u001b[39;00m \u001b[39mlen\u001b[39m(chld_list) \u001b[39m==\u001b[39m \u001b[39m0\u001b[39m:\n",
      "File \u001b[0;32m/opt/homebrew/anaconda3/envs/m1_ml/lib/python3.10/site-packages/spacy/tokens/span.pyx:211\u001b[0m, in \u001b[0;36mspacy.tokens.span.Span._.__get__\u001b[0;34m()\u001b[0m\n",
      "File \u001b[0;32m/opt/homebrew/anaconda3/envs/m1_ml/lib/python3.10/site-packages/spacy/tokens/underscore.py:38\u001b[0m, in \u001b[0;36mUnderscore.__init__\u001b[0;34m(self, extensions, obj, start, end)\u001b[0m\n\u001b[1;32m     36\u001b[0m \u001b[39mobject\u001b[39m\u001b[39m.\u001b[39m\u001b[39m__setattr__\u001b[39m(\u001b[39mself\u001b[39m, \u001b[39m\"\u001b[39m\u001b[39m_doc\u001b[39m\u001b[39m\"\u001b[39m, obj\u001b[39m.\u001b[39mdoc)\n\u001b[1;32m     37\u001b[0m \u001b[39mobject\u001b[39m\u001b[39m.\u001b[39m\u001b[39m__setattr__\u001b[39m(\u001b[39mself\u001b[39m, \u001b[39m\"\u001b[39m\u001b[39m_start\u001b[39m\u001b[39m\"\u001b[39m, start)\n\u001b[0;32m---> 38\u001b[0m \u001b[39mobject\u001b[39;49m\u001b[39m.\u001b[39;49m\u001b[39m__setattr__\u001b[39;49m(\u001b[39mself\u001b[39;49m, \u001b[39m\"\u001b[39;49m\u001b[39m_end\u001b[39;49m\u001b[39m\"\u001b[39;49m, end)\n",
      "\u001b[0;31mKeyboardInterrupt\u001b[0m: "
     ]
    }
   ],
   "source": [
    "from collections import deque\n",
    "\n",
    "def get_level_order_traversal(tree):\n",
    "    result = []\n",
    "    queue = deque()\n",
    "    queue.append(tree)\n",
    "    while len(queue) > 0:\n",
    "        curr_node = queue.popleft()\n",
    "        result.append(curr_node)\n",
    "        result.append('#')\n",
    "        chld_list = []\n",
    "        \n",
    "        for chld in curr_node._.children:\n",
    "            chld_list.append(chld)\n",
    "\n",
    "        if len(chld_list) == 0:\n",
    "            chld_list = [curr_node]\n",
    "\n",
    "        queue.extend(chld_list)\n",
    "\n",
    "\n",
    "\n",
    "    return result\n",
    "\n",
    "get_level_order_traversal(curr_sent)"
   ]
  },
  {
   "cell_type": "code",
   "execution_count": null,
   "metadata": {},
   "outputs": [],
   "source": []
  }
 ],
 "metadata": {
  "kernelspec": {
   "display_name": "Python 3.10.4 ('m1_ml')",
   "language": "python",
   "name": "python3"
  },
  "language_info": {
   "codemirror_mode": {
    "name": "ipython",
    "version": 3
   },
   "file_extension": ".py",
   "mimetype": "text/x-python",
   "name": "python",
   "nbconvert_exporter": "python",
   "pygments_lexer": "ipython3",
   "version": "3.10.4"
  },
  "orig_nbformat": 4,
  "vscode": {
   "interpreter": {
    "hash": "ed9ac044c1c4bfd69a4553e5d3e8a2eae04839213d34d1a7b6b0102cc5f52573"
   }
  }
 },
 "nbformat": 4,
 "nbformat_minor": 2
}
