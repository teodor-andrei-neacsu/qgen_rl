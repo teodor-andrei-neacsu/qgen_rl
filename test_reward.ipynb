{
 "cells": [
  {
   "cell_type": "code",
   "execution_count": 1,
   "metadata": {},
   "outputs": [
    {
     "name": "stderr",
     "output_type": "stream",
     "text": [
      "/opt/homebrew/anaconda3/envs/ml/lib/python3.10/site-packages/tqdm/auto.py:22: TqdmWarning: IProgress not found. Please update jupyter and ipywidgets. See https://ipywidgets.readthedocs.io/en/stable/user_install.html\n",
      "  from .autonotebook import tqdm as notebook_tqdm\n"
     ]
    }
   ],
   "source": [
    "import torch\n",
    "import torch.nn as nn\n",
    "\n",
    "from datasets import load_dataset\n",
    "from transformers import T5ForConditionalGeneration, AutoTokenizer"
   ]
  },
  {
   "cell_type": "code",
   "execution_count": 3,
   "metadata": {},
   "outputs": [
    {
     "name": "stderr",
     "output_type": "stream",
     "text": [
      "Using custom data configuration readerbench--squad_qgen-afbe6c1a706ab455\n",
      "Found cached dataset parquet (/Users/teoneacsu/.cache/huggingface/datasets/readerbench___parquet/readerbench--squad_qgen-afbe6c1a706ab455/0.0.0/2a3b91fbd88a2c90d1dbbb32b460cf621d31bd5b05b934492fdef7d8d6f236ec)\n",
      "100%|██████████| 2/2 [00:00<00:00, 393.72it/s]\n"
     ]
    }
   ],
   "source": [
    "squad = load_dataset(\"readerbench/squad_qgen\")"
   ]
  },
  {
   "cell_type": "code",
   "execution_count": 7,
   "metadata": {},
   "outputs": [
    {
     "name": "stderr",
     "output_type": "stream",
     "text": [
      "Downloading config.json: 100%|██████████| 1.45k/1.45k [00:00<00:00, 1.24MB/s]\n",
      "Downloading pytorch_model.bin: 100%|██████████| 850M/850M [00:38<00:00, 23.2MB/s] \n",
      "Downloading config.json: 100%|██████████| 1.45k/1.45k [00:00<00:00, 1.27MB/s]\n",
      "Downloading pytorch_model.bin: 100%|██████████| 850M/850M [00:36<00:00, 24.2MB/s] \n"
     ]
    }
   ],
   "source": [
    "# load the tokenizer\n",
    "tokenizer = AutoTokenizer.from_pretrained(\"t5-base\")\n",
    "\n",
    "# question generation model\n",
    "qgen_model = T5ForConditionalGeneration.from_pretrained(\"readerbench/t5-qg\", use_auth_token=True).eval()\n",
    "\n",
    "# question answering model\n",
    "qans_model = T5ForConditionalGeneration.from_pretrained(\"readerbench/t5-qa\", use_auth_token=True).eval()"
   ]
  },
  {
   "cell_type": "markdown",
   "metadata": {},
   "source": []
  },
  {
   "cell_type": "code",
   "execution_count": 9,
   "metadata": {},
   "outputs": [
    {
     "data": {
      "text/plain": [
       "{'id': '56be85543aeaaa14008c9063',\n",
       " 'title': 'Beyoncé',\n",
       " 'context': 'Beyoncé Giselle Knowles-Carter (/biːˈjɒnseɪ/ bee-YON-say) (born September 4, 1981) is an American singer, songwriter, record producer and actress. Born and raised in Houston, Texas, she performed in various singing and dancing competitions as a child, and rose to fame in the late 1990s as lead singer of R&B girl-group Destiny\\'s Child. Managed by her father, Mathew Knowles, the group became one of the world\\'s best-selling girl groups of all time. Their hiatus saw the release of Beyoncé\\'s debut album, Dangerously in Love (2003), which established her as a solo artist worldwide, earned five Grammy Awards and featured the Billboard Hot 100 number-one singles \"Crazy in Love\" and \"Baby Boy\".',\n",
       " 'question': 'When did Beyonce start becoming popular?',\n",
       " 'answers': {'text': ['in the late 1990s'], 'answer_start': [269]}}"
      ]
     },
     "execution_count": 9,
     "metadata": {},
     "output_type": "execute_result"
    }
   ],
   "source": [
    "sample = squad[\"train\"][0]\n",
    "\n",
    "context = sample[\"context\"]\n",
    "answer = sample[\"answer\"]\n",
    "\n",
    "# 1024, 128\n",
    "\n",
    "test_sample = \"generate question: context: \" + context + \" answer: \" + answer\n",
    "\n",
    "test_ans_samp = \"answer question: context: \" + context + \" question: \"\n",
    "\n",
    "test_tokenized = tokenizer(test_sample, return_tensors=\"pt\", )"
   ]
  },
  {
   "cell_type": "code",
   "execution_count": null,
   "metadata": {},
   "outputs": [],
   "source": []
  }
 ],
 "metadata": {
  "kernelspec": {
   "display_name": "Python 3.10.6 ('ml')",
   "language": "python",
   "name": "python3"
  },
  "language_info": {
   "codemirror_mode": {
    "name": "ipython",
    "version": 3
   },
   "file_extension": ".py",
   "mimetype": "text/x-python",
   "name": "python",
   "nbconvert_exporter": "python",
   "pygments_lexer": "ipython3",
   "version": "3.10.6"
  },
  "orig_nbformat": 4,
  "vscode": {
   "interpreter": {
    "hash": "5188bc372fa413aa2565ae5d28228f50ad7b2c4ebb4a82c5900fd598adbb6408"
   }
  }
 },
 "nbformat": 4,
 "nbformat_minor": 2
}
